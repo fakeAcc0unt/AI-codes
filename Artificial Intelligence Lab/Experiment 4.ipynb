{
 "cells": [
  {
   "cell_type": "code",
   "execution_count": 1,
   "id": "2bc4bbf4-eedf-4251-998f-36c698b06faa",
   "metadata": {},
   "outputs": [
    {
     "name": "stdout",
     "output_type": "stream",
     "text": [
      "Artificial Intelligence Lab\n",
      "Experiment No.: 04\n",
      "Title: Minimax algorithm in game theory\n"
     ]
    }
   ],
   "source": [
    "print(\"Artificial Intelligence Lab\", \"Experiment No.: 04\", sep = \"\\n\")\n",
    "print(\"Title: Minimax algorithm in game theory\")"
   ]
  },
  {
   "cell_type": "code",
   "execution_count": 3,
   "id": "a61bd06a-10cb-4523-a26d-fca83b27ed73",
   "metadata": {},
   "outputs": [],
   "source": [
    "#importing required libraries\n",
    "import math"
   ]
  },
  {
   "cell_type": "code",
   "execution_count": 9,
   "id": "9970db00-3a93-496f-b175-f7691fac6477",
   "metadata": {},
   "outputs": [],
   "source": [
    "#defining the minimax algorithm as a function\n",
    "def minimax(curDepth, nodeIndex, maxTurn, scores, targetDepth):\n",
    "    # Checking for leaf nodes\n",
    "    if curDepth == targetDepth:\n",
    "        return scores[nodeIndex]\n",
    "    \n",
    "    if maxTurn:\n",
    "        # Maximizer's turn\n",
    "        return max(minimax(curDepth + 1, nodeIndex * 2, False, scores, targetDepth),\n",
    "                   minimax(curDepth + 1, nodeIndex * 2 + 1, False, scores, targetDepth))\n",
    "    else:\n",
    "        # Minimizer's turn\n",
    "        return min(minimax(curDepth + 1, nodeIndex * 2, True, scores, targetDepth),\n",
    "                   minimax(curDepth + 1, nodeIndex * 2 + 1, True, scores, targetDepth))\n"
   ]
  },
  {
   "cell_type": "code",
   "execution_count": 12,
   "id": "c7189441-8bdb-46b6-91ac-e8865f71e5a5",
   "metadata": {},
   "outputs": [
    {
     "name": "stdin",
     "output_type": "stream",
     "text": [
      "Enter the number of values:  8\n",
      "Enter value:  3\n",
      "Enter value:  5\n",
      "Enter value:  2\n",
      "Enter value:  9\n",
      "Enter value:  12\n",
      "Enter value:  5\n",
      "Enter value:  23\n",
      "Enter value:  23\n"
     ]
    },
    {
     "name": "stdout",
     "output_type": "stream",
     "text": [
      "The optimal value is: 12\n"
     ]
    }
   ],
   "source": [
    "#Main code\n",
    "scores = list()\n",
    "for _ in range(int(input(\"Enter the number of values: \"))):\n",
    "    temp = int(input(\"Enter value: \"))\n",
    "    scores.append(temp)\n",
    "treeDepth = math.log(len(scores), 2)\n",
    "print(\"The optimal value is: \", end = \"\")\n",
    "print(minimax(0, 0, True, scores, int(treeDepth)))"
   ]
  }
 ],
 "metadata": {
  "kernelspec": {
   "display_name": "Python 3 (ipykernel)",
   "language": "python",
   "name": "python3"
  },
  "language_info": {
   "codemirror_mode": {
    "name": "ipython",
    "version": 3
   },
   "file_extension": ".py",
   "mimetype": "text/x-python",
   "name": "python",
   "nbconvert_exporter": "python",
   "pygments_lexer": "ipython3",
   "version": "3.11.5"
  }
 },
 "nbformat": 4,
 "nbformat_minor": 5
}
