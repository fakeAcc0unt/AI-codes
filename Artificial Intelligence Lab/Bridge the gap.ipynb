{
 "cells": [
  {
   "cell_type": "code",
   "execution_count": 5,
   "id": "27fdf6ad-d143-4516-85d2-256101c3b8f8",
   "metadata": {},
   "outputs": [
    {
     "name": "stdout",
     "output_type": "stream",
     "text": [
      "Artificial Intelligence Lab\n",
      "Bridge the gap\n",
      "Title: Finding leaf nodes of a given Binary Search Tree\n"
     ]
    }
   ],
   "source": [
    "print(\"Artificial Intelligence Lab\", \"Bridge the gap\", sep = \"\\n\")\n",
    "print(\"Title: Finding leaf nodes of a given Binary Search Tree\")"
   ]
  },
  {
   "cell_type": "markdown",
   "id": "4613b59c-93d5-4d90-9757-c9db6a43dfc2",
   "metadata": {},
   "source": [
    "Creating a class node to store the values in a BST"
   ]
  },
  {
   "cell_type": "code",
   "execution_count": 6,
   "id": "e504564d-651f-40ba-b1ce-b4857d6d9902",
   "metadata": {},
   "outputs": [],
   "source": [
    "class node:\n",
    "    def __init__(self, key):\n",
    "        self.left = None\n",
    "        self.right = None\n",
    "        self.data = key"
   ]
  },
  {
   "cell_type": "markdown",
   "id": "6a7fb471-cc66-44fb-a3c9-03b542255518",
   "metadata": {},
   "source": [
    "Leaf function searches and prints all the leaf nodes"
   ]
  },
  {
   "cell_type": "code",
   "execution_count": 7,
   "id": "8db5070a-740b-4de1-9af7-562cbd9f88f4",
   "metadata": {},
   "outputs": [],
   "source": [
    "def leaf(root):\n",
    "    if root:\n",
    "        if root.left is None and root.right is None:\n",
    "            print(root.data, end = \" \")\n",
    "        leaf(root.left)\n",
    "        leaf(root.right)"
   ]
  },
  {
   "cell_type": "code",
   "execution_count": 18,
   "id": "8ff5749b-b575-42a8-9766-08d6b3973f95",
   "metadata": {},
   "outputs": [],
   "source": [
    "root = node(1)\n",
    "root.left = node(2)\n",
    "root.right = node(3)\n",
    "root.left.left = node(4)\n",
    "root.left.right = node(5)\n",
    "root.right.left = node(6)\n",
    "root.right.right = node(7)"
   ]
  },
  {
   "cell_type": "code",
   "execution_count": 19,
   "id": "4c8688fc-6b30-4869-9c36-dd5abef4bf38",
   "metadata": {},
   "outputs": [
    {
     "name": "stdout",
     "output_type": "stream",
     "text": [
      "Leaf nodes of the BST are:\n",
      "4 5 6 7 "
     ]
    }
   ],
   "source": [
    "print(\"Leaf nodes of the BST are:\")\n",
    "leaf(root)"
   ]
  }
 ],
 "metadata": {
  "kernelspec": {
   "display_name": "Python 3 (ipykernel)",
   "language": "python",
   "name": "python3"
  },
  "language_info": {
   "codemirror_mode": {
    "name": "ipython",
    "version": 3
   },
   "file_extension": ".py",
   "mimetype": "text/x-python",
   "name": "python",
   "nbconvert_exporter": "python",
   "pygments_lexer": "ipython3",
   "version": "3.11.5"
  }
 },
 "nbformat": 4,
 "nbformat_minor": 5
}
