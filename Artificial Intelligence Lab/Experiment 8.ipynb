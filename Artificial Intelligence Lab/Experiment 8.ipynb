{
 "cells": [
  {
   "cell_type": "markdown",
   "id": "05f1ce9c-f437-4dd9-878a-97a409e814e5",
   "metadata": {},
   "source": [
    "Artificial Intelligence Lab\\\n",
    "Experiment No.: 17\\\n",
    "Title: Airline Scheduling Algorithm"
   ]
  },
  {
   "cell_type": "code",
   "execution_count": 1,
   "id": "4aad26bf-88d1-461f-8b62-82ed774e91b6",
   "metadata": {},
   "outputs": [],
   "source": [
    "#defining a class for the flights\n",
    "class Flight:\n",
    "    def __init__(self, flight, departure, arrival, maintenance = 0):\n",
    "        self.flight = flight\n",
    "        self.departure = departure\n",
    "        self.arrival = arrival\n",
    "        self.maintenance = maintenance"
   ]
  },
  {
   "cell_type": "code",
   "execution_count": 10,
   "id": "bbc2fbaa-145f-4485-bc0f-fb33ced8ce26",
   "metadata": {},
   "outputs": [],
   "source": [
    "#defining a function to convert a 24hr format time (an str) into minutes\n",
    "def convert_to_minutes(time_str):\n",
    "    hours, minutes = map(int, time_str.split())\n",
    "    return hours * 60 + minutes\n",
    "\n",
    "#defining a function to convert minutes into 24hr format time\n",
    "def convert_to_time(minutes):\n",
    "    hours = minutes // 60\n",
    "    minutes = minutes % 60\n",
    "    return f\"{hours:02d} {minutes:02d}\""
   ]
  },
  {
   "cell_type": "code",
   "execution_count": 11,
   "id": "4d9d106d-6061-44d7-8ed4-dcc59ba98259",
   "metadata": {},
   "outputs": [],
   "source": [
    "#Greedy Scheduling Algorithm\n",
    "#defining the airline scheduling algorithm as a function\n",
    "def airline_schedule(flights):\n",
    "    #sorting the flights based on their arrival time\n",
    "    flights.sort(key = lambda x: x.arrival)\n",
    "    schedule = list()\n",
    "    #initializing the current time as zero (i.e, midnight)\n",
    "    current_time = 0\n",
    "    #scheduling algorithm logic\n",
    "    for flight in flights:\n",
    "        if flight.departure >= current_time + flight.maintenance:\n",
    "            schedule.append(flight)\n",
    "            current_time = flight.arrival\n",
    "    return schedule"
   ]
  },
  {
   "cell_type": "code",
   "execution_count": 12,
   "id": "55455f32-28fc-4042-a015-15287dc4d0d7",
   "metadata": {},
   "outputs": [],
   "source": [
    "def get_user_input():\n",
    "    flights = list()\n",
    "    while True:\n",
    "        flight = input(\"Enter Flight Number (or enter \\\"done\\\" to finish: \")\n",
    "        if flight.lower() == \"done\":\n",
    "            break\n",
    "        departure_str = input(\"Enter Departure time in 24 hour format: \")\n",
    "        departure = convert_to_minutes(departure_str)\n",
    "        arrival_str = input(\"Enter Arrival time in 24 hour format: \")\n",
    "        arrival = convert_to_minutes(arrival_str)\n",
    "        maintenance = int(input(\"Enter Maintenance time in minutes\"))\n",
    "        flights.append(Flight(flight, departure, arrival, maintenance))\n",
    "    return flights"
   ]
  },
  {
   "cell_type": "code",
   "execution_count": 14,
   "id": "408394f6-aae0-4652-ac46-1693ac2190a2",
   "metadata": {},
   "outputs": [
    {
     "name": "stdin",
     "output_type": "stream",
     "text": [
      "Enter Flight Number (or enter \"done\" to finish:  A\n",
      "Enter Departure time in 24 hour format:  00 45\n",
      "Enter Arrival time in 24 hour format:  3 50\n",
      "Enter Maintenance time in minutes 30\n",
      "Enter Flight Number (or enter \"done\" to finish:  B\n",
      "Enter Departure time in 24 hour format:  2 45\n",
      "Enter Arrival time in 24 hour format:  6 30\n",
      "Enter Maintenance time in minutes 60\n",
      "Enter Flight Number (or enter \"done\" to finish:  C\n",
      "Enter Departure time in 24 hour format:  5 50\n",
      "Enter Arrival time in 24 hour format:  12 30\n",
      "Enter Maintenance time in minutes 90\n",
      "Enter Flight Number (or enter \"done\" to finish:  D\n",
      "Enter Departure time in 24 hour format:  15 25\n",
      "Enter Arrival time in 24 hour format:  20 15\n",
      "Enter Maintenance time in minutes 85\n",
      "Enter Flight Number (or enter \"done\" to finish:  DONE\n"
     ]
    },
    {
     "name": "stdout",
     "output_type": "stream",
     "text": [
      "\n",
      "Scheduled Flights:\n",
      "Flight A: Departure 00 45,\n",
      "    Arrival 03 50\n",
      "Flight C: Departure 05 50,\n",
      "    Arrival 12 30\n",
      "Flight D: Departure 15 25,\n",
      "    Arrival 20 15\n"
     ]
    }
   ],
   "source": [
    "#Main code\n",
    "flights = get_user_input()\n",
    "scheduled_flights = airline_schedule(flights)\n",
    "print(\"\\nScheduled Flights:\")\n",
    "for flight in scheduled_flights:\n",
    "    print(f\"\"\"Flight {flight.flight}: Departure {convert_to_time(flight.departure)},\n",
    "    Arrival {convert_to_time(flight.arrival)}\"\"\")"
   ]
  },
  {
   "cell_type": "code",
   "execution_count": null,
   "id": "e5fcaa3d-391a-455a-9a94-0b92849558f9",
   "metadata": {},
   "outputs": [],
   "source": []
  }
 ],
 "metadata": {
  "kernelspec": {
   "display_name": "Python 3 (ipykernel)",
   "language": "python",
   "name": "python3"
  },
  "language_info": {
   "codemirror_mode": {
    "name": "ipython",
    "version": 3
   },
   "file_extension": ".py",
   "mimetype": "text/x-python",
   "name": "python",
   "nbconvert_exporter": "python",
   "pygments_lexer": "ipython3",
   "version": "3.11.5"
  }
 },
 "nbformat": 4,
 "nbformat_minor": 5
}
