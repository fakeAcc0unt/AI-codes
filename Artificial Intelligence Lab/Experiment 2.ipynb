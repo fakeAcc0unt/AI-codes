{
 "cells": [
  {
   "cell_type": "code",
   "execution_count": 36,
   "id": "32e4d976-da7a-4351-b646-f63ebc4ea123",
   "metadata": {},
   "outputs": [
    {
     "name": "stdout",
     "output_type": "stream",
     "text": [
      "Artificial Intelligence Lab\n",
      "Experiment No.: 02\n",
      "Title: Tic Tac Toe problem\n"
     ]
    }
   ],
   "source": [
    "print(\"Artificial Intelligence Lab\", \"Experiment No.: 02\", sep = \"\\n\")\n",
    "print(\"Title: Tic Tac Toe problem\")"
   ]
  },
  {
   "cell_type": "code",
   "execution_count": 37,
   "id": "dec48f0a-b4ea-435d-9743-e3dd03ec7b83",
   "metadata": {},
   "outputs": [],
   "source": [
    "from collections import deque"
   ]
  },
  {
   "cell_type": "code",
   "execution_count": 43,
   "id": "16e24ed1-c6cd-4b87-9061-73272bc3aa7d",
   "metadata": {},
   "outputs": [],
   "source": [
    "class TicTacToe:\n",
    "    def __init__(self):\n",
    "        self.board = [[' ' for _ in range(3)] for _ in range(3)]\n",
    "\n",
    "    def display_board(self):\n",
    "        for row in self.board:\n",
    "            print(\"|\".join(row))\n",
    "            print(\"-----\")\n",
    "\n",
    "    def is_winner(self, player):\n",
    "        for i in range(3):\n",
    "            if all(self.board[i][j] == player for j in range(3)) or all(self.board[j][i] == player for j in range(3)):\n",
    "                return True\n",
    "\n",
    "        if all(self.board[i][i] == player for i in range(3)) or all(self.board[i][2 - i] == player for i in range(3)):\n",
    "            return True\n",
    "\n",
    "        return False\n",
    "\n",
    "    def is_full(self):\n",
    "        return all(self.board[i][j] != ' ' for i in range(3) for j in range(3))\n",
    "\n",
    "    def get_empty_cells(self):\n",
    "        return [(i, j) for i in range(3) for j in range(3) if self.board[i][j] == ' ']\n",
    "\n",
    "    def make_move(self, player, row, col):\n",
    "        if self.board[row][col] == ' ':\n",
    "            self.board[row][col] = player\n",
    "            return True\n",
    "        return False"
   ]
  },
  {
   "cell_type": "code",
   "execution_count": 44,
   "id": "09d45b98-3edb-4462-98db-0ff4928cabfa",
   "metadata": {},
   "outputs": [],
   "source": [
    "def tic_tac_toe_bfs(board):\n",
    "    queue = deque([(board, [])])\n",
    "    visited = set()\n",
    "\n",
    "    while queue:\n",
    "        current_board, moves = queue.popleft()\n",
    "\n",
    "        if current_board.is_winner('X'):\n",
    "            return moves\n",
    "\n",
    "        if current_board.is_winner('O'):\n",
    "            continue \n",
    "\n",
    "        if current_board.is_full():\n",
    "            continue  \n",
    "\n",
    "        if current_board in visited:\n",
    "            continue\n",
    "\n",
    "        visited.add(current_board)\n",
    "\n",
    "        for i, j in current_board.get_empty_cells():\n",
    "            new_board = TicTacToe()\n",
    "            new_board.board = [row.copy() for row in current_board.board]\n",
    "            new_board.make_move('X', i, j)\n",
    "            queue.append((new_board, moves + [(i, j)]))\n",
    "\n",
    "    return None"
   ]
  },
  {
   "cell_type": "code",
   "execution_count": 40,
   "id": "2844bdf2-fcaa-4e34-8559-9545f8774862",
   "metadata": {},
   "outputs": [],
   "source": [
    "def print_instructions():\n",
    "    print(\"Tic-Tac-Toe Game\")\n",
    "    print(\"Enter your move in the format 'row,col'. For example, '0,0' for the top-left corner.\")\n",
    "    print(\"You are 'O', and the computer is 'X'. Let's begin!\\n\")"
   ]
  },
  {
   "cell_type": "code",
   "execution_count": 45,
   "id": "249da25c-449b-47d8-9f9f-acfd5042555a",
   "metadata": {},
   "outputs": [],
   "source": [
    "def main():\n",
    "    print(\"Tic-Tac-Toe Game\")\n",
    "    print(\"Enter your move in the format 'row,col'. For example, '0,0' for the top-left corner.\")\n",
    "    print(\"You are 'O', and the computer is 'X'. Let's begin!\\n\")\n",
    "\n",
    "    game = TicTacToe()\n",
    "    while True:\n",
    "        game.display_board()\n",
    "        player_move = input(\"Your move: \")\n",
    "        row, col = map(int, player_move.split(\",\"))\n",
    "        if game.make_move('O', row, col):\n",
    "            if game.is_winner('O'):\n",
    "                game.display_board()\n",
    "                print(\"Congratulations! You win!\")\n",
    "                break\n",
    "            elif game.is_full():\n",
    "                game.display_board()\n",
    "                print(\"It's a draw!\")\n",
    "                break\n",
    "\n",
    "            computer_moves = tic_tac_toe_bfs(game)\n",
    "            if computer_moves:\n",
    "                for move in computer_moves:\n",
    "                    row, col = move\n",
    "                    if game.make_move('X', row, col):\n",
    "                        break\n",
    "                else:\n",
    "                    print(\"Invalid move by the computer. Ending the game.\")\n",
    "                    break\n",
    "\n",
    "                if game.is_winner('X'):\n",
    "                    game.display_board()\n",
    "                    print(\"Sorry, you lose. Better luck next time!\")\n",
    "                    break\n",
    "                elif game.is_full():\n",
    "                    game.display_board()\n",
    "                    print(\"It's a draw!\")\n",
    "                    break\n",
    "            else:\n",
    "                print(\"No solution found. It's a draw!\")\n",
    "                break\n",
    "\n",
    "    print(\"Game over.\")\n"
   ]
  },
  {
   "cell_type": "code",
   "execution_count": null,
   "id": "9eb25763-f732-4568-a0a9-eb87fad6d7d5",
   "metadata": {},
   "outputs": [
    {
     "name": "stdout",
     "output_type": "stream",
     "text": [
      "Tic-Tac-Toe Game\n",
      "Enter your move in the format 'row,col'. For example, '0,0' for the top-left corner.\n",
      "You are 'O', and the computer is 'X'. Let's begin!\n",
      "\n",
      " | | \n",
      "-----\n",
      " | | \n",
      "-----\n",
      " | | \n",
      "-----\n"
     ]
    },
    {
     "name": "stdin",
     "output_type": "stream",
     "text": [
      "Your move:  0,0\n"
     ]
    },
    {
     "name": "stdout",
     "output_type": "stream",
     "text": [
      "O|X| \n",
      "-----\n",
      " | | \n",
      "-----\n",
      " | | \n",
      "-----\n"
     ]
    },
    {
     "name": "stdin",
     "output_type": "stream",
     "text": [
      "Your move:  1,2\n"
     ]
    },
    {
     "name": "stdout",
     "output_type": "stream",
     "text": [
      "O|X| \n",
      "-----\n",
      " |X|O\n",
      "-----\n",
      " | | \n",
      "-----\n"
     ]
    },
    {
     "name": "stdin",
     "output_type": "stream",
     "text": [
      "Your move:  2,1\n"
     ]
    },
    {
     "name": "stdout",
     "output_type": "stream",
     "text": [
      "O|X|X\n",
      "-----\n",
      " |X|O\n",
      "-----\n",
      " |O| \n",
      "-----\n"
     ]
    }
   ],
   "source": [
    "main()"
   ]
  },
  {
   "cell_type": "code",
   "execution_count": null,
   "id": "740c8a7a-2e8e-43d0-9b06-a781fb2a19c9",
   "metadata": {},
   "outputs": [],
   "source": []
  }
 ],
 "metadata": {
  "kernelspec": {
   "display_name": "Python 3 (ipykernel)",
   "language": "python",
   "name": "python3"
  },
  "language_info": {
   "codemirror_mode": {
    "name": "ipython",
    "version": 3
   },
   "file_extension": ".py",
   "mimetype": "text/x-python",
   "name": "python",
   "nbconvert_exporter": "python",
   "pygments_lexer": "ipython3",
   "version": "3.11.5"
  }
 },
 "nbformat": 4,
 "nbformat_minor": 5
}
