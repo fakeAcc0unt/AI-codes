{
 "cells": [
  {
   "cell_type": "markdown",
   "id": "95ba41b5-9348-4238-b27e-344283b0697a",
   "metadata": {},
   "source": [
    "# Interval Scheduling Agorithm"
   ]
  },
  {
   "cell_type": "code",
   "execution_count": 1,
   "id": "ed700254-1ef2-4d81-a5d4-86687588e8aa",
   "metadata": {},
   "outputs": [
    {
     "name": "stdin",
     "output_type": "stream",
     "text": [
      "Enter the number of tasks:  4\n",
      "Enter starting time for task 1:  1\n",
      "Enter ending time for task 1:  3\n"
     ]
    },
    {
     "name": "stdout",
     "output_type": "stream",
     "text": [
      "\n"
     ]
    },
    {
     "name": "stdin",
     "output_type": "stream",
     "text": [
      "Enter starting time for task 2:  2\n",
      "Enter ending time for task 2:  5\n"
     ]
    },
    {
     "name": "stdout",
     "output_type": "stream",
     "text": [
      "\n"
     ]
    },
    {
     "name": "stdin",
     "output_type": "stream",
     "text": [
      "Enter starting time for task 3:  4\n",
      "Enter ending time for task 3:  7\n"
     ]
    },
    {
     "name": "stdout",
     "output_type": "stream",
     "text": [
      "\n"
     ]
    },
    {
     "name": "stdin",
     "output_type": "stream",
     "text": [
      "Enter starting time for task 4:  6\n",
      "Enter ending time for task 4:  9\n"
     ]
    },
    {
     "name": "stdout",
     "output_type": "stream",
     "text": [
      "\n",
      "Selected Optimal tasks: [(1, 3), (4, 7)]\n"
     ]
    }
   ],
   "source": [
    "def greedy_interval_scheduling(tasks):\n",
    "    tasks.sort(key=lambda x: x[1])\n",
    "    solution = []\n",
    "    finish_time = tasks[0][0]\n",
    "    \n",
    "    for task in tasks:\n",
    "        start, end = task\n",
    "        if start >= finish_time:\n",
    "            solution.append(task)\n",
    "            finish_time = end\n",
    "    return solution\n",
    "\n",
    "def read_integer(prompt):\n",
    "    while True:\n",
    "        try:\n",
    "            return int(input(prompt))\n",
    "        except ValueError:\n",
    "            print(\"Please enter a valid integer.\")\n",
    "\n",
    "tasks = []\n",
    "num_tasks = read_integer(\"Enter the number of tasks: \")\n",
    "\n",
    "for i in range(num_tasks):\n",
    "    start = read_integer(f\"Enter starting time for task {i+1}: \")\n",
    "    end = read_integer(f\"Enter ending time for task {i+1}: \")\n",
    "    tasks.append((start, end))\n",
    "    print()\n",
    "selected_tasks = greedy_interval_scheduling(tasks)\n",
    "print(\"Selected Optimal tasks:\", selected_tasks)"
   ]
  },
  {
   "cell_type": "code",
   "execution_count": null,
   "id": "beb7e06a-5f24-4f1f-b5fb-9a87383f1db8",
   "metadata": {},
   "outputs": [],
   "source": []
  }
 ],
 "metadata": {
  "kernelspec": {
   "display_name": "Python 3 (ipykernel)",
   "language": "python",
   "name": "python3"
  },
  "language_info": {
   "codemirror_mode": {
    "name": "ipython",
    "version": 3
   },
   "file_extension": ".py",
   "mimetype": "text/x-python",
   "name": "python",
   "nbconvert_exporter": "python",
   "pygments_lexer": "ipython3",
   "version": "3.10.11"
  }
 },
 "nbformat": 4,
 "nbformat_minor": 5
}
