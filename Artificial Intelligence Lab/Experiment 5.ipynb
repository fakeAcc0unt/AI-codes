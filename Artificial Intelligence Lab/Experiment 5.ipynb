{
 "cells": [
  {
   "cell_type": "code",
   "execution_count": 4,
   "id": "b96cc9e3-0891-417b-8bb4-cf56578ea12d",
   "metadata": {},
   "outputs": [
    {
     "name": "stdin",
     "output_type": "stream",
     "text": [
      "Input size of chessboard? n =  4\n"
     ]
    },
    {
     "name": "stdout",
     "output_type": "stream",
     "text": [
      "\n",
      "One of the solutions is: \n",
      "\n",
      "x Q x x\n",
      "x x x Q\n",
      "Q x x x\n",
      "x x Q x\n",
      "\n",
      "Total number of solutions= 2\n"
     ]
    }
   ],
   "source": [
    "import copy\n",
    "import random\n",
    "\n",
    "\n",
    "\n",
    "\n",
    "\n",
    "\n",
    "\n",
    "        "
   ]
  },
  {
   "cell_type": "code",
   "execution_count": 5,
   "id": "2b8a0ee3-58eb-4d05-881f-6330087165c3",
   "metadata": {},
   "outputs": [],
   "source": [
    "def take_input():\n",
    "    #Accepts the size of the chess board\n",
    "    while True:\n",
    "        try:\n",
    "            n = int(input('Input size of chessboard? n = '))\n",
    "            if n <= 3:\n",
    "                print(\"Enter a value greater than or equal to 4\")\n",
    "                continue\n",
    "            return n\n",
    "        except ValueError:\n",
    "            print(\"Invalid value entered. Enter again\")\n"
   ]
  },
  {
   "cell_type": "code",
   "execution_count": 6,
   "id": "b007e6b2-3bc2-4fa3-a83c-426e085e0782",
   "metadata": {},
   "outputs": [],
   "source": [
    "def get_board(n):\n",
    "    #Returns an n by n board\n",
    "    board = [\"x\"]*n\n",
    "    for i in range(n):\n",
    "        board[i] = [\"x\"]*n\n",
    "    return board"
   ]
  },
  {
   "cell_type": "code",
   "execution_count": 7,
   "id": "6dd22ca4-9448-4225-be5f-34c654ce93ff",
   "metadata": {},
   "outputs": [],
   "source": [
    "def print_solution(solutions, n):\n",
    "    #Prints one of the solutions randomly\n",
    "    x = random.randint(0,len(solutions)-1) #0 and len(solutions)-1 are inclusive\n",
    "    for row in solutions[x]:\n",
    "        print(\" \".join(row))"
   ]
  },
  {
   "cell_type": "code",
   "execution_count": 8,
   "id": "318cab81-9f27-4578-8563-5de44023ca50",
   "metadata": {},
   "outputs": [],
   "source": [
    "def solve(board, col, n):\n",
    "    #Use backtracking to find all solutions\n",
    "    if col >= n:\n",
    "        return\n",
    "    \n",
    "    for i in range(n):\n",
    "        if is_safe(board, i, col, n):\n",
    "            board[i][col] = \"Q\"\n",
    "            if col == n-1:\n",
    "                add_solution(board)\n",
    "                board[i][col] = \"x\"\n",
    "                return\n",
    "            solve(board, col+1, n) #recursive call\n",
    "            #backtrack\n",
    "            board[i][col] = \"x\""
   ]
  },
  {
   "cell_type": "code",
   "execution_count": 9,
   "id": "573bdc6d-b97a-447e-b968-622ef891611b",
   "metadata": {},
   "outputs": [],
   "source": [
    "def is_safe(board, row, col, n):\n",
    "    #Check if it's safe to place a queen at board[x][y]\n",
    "    #check row on left side\n",
    "    for j in range(col):\n",
    "        if board[row][j] == \"Q\":\n",
    "            return False\n",
    "    \n",
    "    i, j = row, col\n",
    "    while i >= 0 and j >= 0:\n",
    "        if board[i][j] == \"Q\":\n",
    "            return False\n",
    "        i=i-1\n",
    "        j=j-1\n",
    "    \n",
    "    x, y = row,col\n",
    "    while x < n and y >= 0:\n",
    "        if board[x][y] == \"Q\":\n",
    "            return False\n",
    "        x=x+1\n",
    "        y=y-1\n",
    "    \n",
    "    return True\n"
   ]
  },
  {
   "cell_type": "code",
   "execution_count": 10,
   "id": "d48f758d-c9da-407e-be8c-bc31a6e2e123",
   "metadata": {},
   "outputs": [],
   "source": [
    "def add_solution(board):\n",
    "    #Saves the board state to the global variable: solutions\n",
    "    global solutions\n",
    "    saved_board = copy.deepcopy(board)\n",
    "    solutions.append(saved_board)"
   ]
  },
  {
   "cell_type": "code",
   "execution_count": 11,
   "id": "10560da9-058f-4618-b443-c36aee3d60c5",
   "metadata": {},
   "outputs": [
    {
     "name": "stdin",
     "output_type": "stream",
     "text": [
      "Input size of chessboard? n =  3\n"
     ]
    },
    {
     "name": "stdout",
     "output_type": "stream",
     "text": [
      "Enter a value greater than or equal to 4\n"
     ]
    },
    {
     "name": "stdin",
     "output_type": "stream",
     "text": [
      "Input size of chessboard? n =  4\n"
     ]
    },
    {
     "name": "stdout",
     "output_type": "stream",
     "text": [
      "\n",
      "The solution is: \n",
      "\n",
      "x Q x x\n",
      "x x x Q\n",
      "Q x x x\n",
      "x x Q x\n"
     ]
    }
   ],
   "source": [
    "#main\n",
    "#Taking size of the chessboard from user\n",
    "n = take_input()\n",
    "#Returns a square board of nxn dimension\n",
    "board = get_board(n)\n",
    "#Empty list of all possible solutions\n",
    "solutions = []\n",
    "#Solving using backtracking\n",
    "solve(board, 0, n)\n",
    "print()\n",
    "\n",
    "print(\"The solution is: \\n\")\n",
    "print_solution(solutions, n)"
   ]
  },
  {
   "cell_type": "code",
   "execution_count": null,
   "id": "00188d49-e9b2-47d1-a2c8-6e95ceab9a62",
   "metadata": {},
   "outputs": [],
   "source": []
  }
 ],
 "metadata": {
  "kernelspec": {
   "display_name": "Python 3 (ipykernel)",
   "language": "python",
   "name": "python3"
  },
  "language_info": {
   "codemirror_mode": {
    "name": "ipython",
    "version": 3
   },
   "file_extension": ".py",
   "mimetype": "text/x-python",
   "name": "python",
   "nbconvert_exporter": "python",
   "pygments_lexer": "ipython3",
   "version": "3.11.5"
  }
 },
 "nbformat": 4,
 "nbformat_minor": 5
}
