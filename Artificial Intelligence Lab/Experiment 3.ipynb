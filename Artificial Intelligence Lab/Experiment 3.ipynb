{
 "cells": [
  {
   "cell_type": "code",
   "execution_count": 10,
   "id": "1e3b7dcb-fe73-4127-8ff3-30212f0bcb90",
   "metadata": {},
   "outputs": [
    {
     "name": "stdout",
     "output_type": "stream",
     "text": [
      "Artificial Intelligence Lab\n",
      "Experiment No.: 03\n",
      "Title: Best First Search for 8-puzzle problem\n"
     ]
    }
   ],
   "source": [
    "print(\"Artificial Intelligence Lab\", \"Experiment No.: 03\", sep = \"\\n\")\n",
    "print(\"Title: Best First Search for 8-puzzle problem\")"
   ]
  },
  {
   "cell_type": "code",
   "execution_count": 11,
   "id": "ab2d4624-b2c1-4dea-b5ff-0ac8f6767995",
   "metadata": {},
   "outputs": [],
   "source": [
    "#importing the required libraries\n",
    "from heapq import heappush, heappop"
   ]
  },
  {
   "cell_type": "code",
   "execution_count": 12,
   "id": "d8ae95c9-d112-4bf5-85e2-556ef5633444",
   "metadata": {},
   "outputs": [],
   "source": [
    "# Define the goal state\n",
    "goal_state = [[1, 2, 3],\n",
    "              [4, 5, 6],\n",
    "              [7, 8, 0]]"
   ]
  },
  {
   "cell_type": "code",
   "execution_count": 13,
   "id": "e015eeee-0d30-44da-9180-57de1e8e8ec9",
   "metadata": {},
   "outputs": [],
   "source": [
    "# Define moves: up, down, left, right\n",
    "moves = [(-1, 0), (1, 0), (0, -1), (0, 1)]"
   ]
  },
  {
   "cell_type": "code",
   "execution_count": 14,
   "id": "07de9b29-250a-466c-b1ad-68bea2650084",
   "metadata": {},
   "outputs": [],
   "source": [
    "def misplaced_tiles(state):\n",
    "    count = 0\n",
    "    for i in range(3):\n",
    "        for j in range(3):\n",
    "            if state[i][j] != goal_state[i][j]:\n",
    "                count += 1\n",
    "    return count"
   ]
  },
  {
   "cell_type": "code",
   "execution_count": 15,
   "id": "501daef3-7a74-4351-b7dd-491ac686f96c",
   "metadata": {},
   "outputs": [],
   "source": [
    "def get_neighbors(state, empty_pos):\n",
    "    neighbors = []\n",
    "    for move in moves:\n",
    "        new_pos = (empty_pos[0] + move[0], empty_pos[1] + move[1])\n",
    "        if 0 <= new_pos[0] < 3 and 0 <= new_pos[1] < 3:\n",
    "            new_state = [row[:] for row in state]\n",
    "            new_state[empty_pos[0]][empty_pos[1]], new_state[new_pos[0]][new_pos[1]] = new_state[new_pos[0]][new_pos[1]], new_state[empty_pos[0]][empty_pos[1]]\n",
    "            neighbors.append((new_state, new_pos))\n",
    "    return neighbors"
   ]
  },
  {
   "cell_type": "code",
   "execution_count": 16,
   "id": "9d57d0e8-1a64-412a-8e10-b5598700bc64",
   "metadata": {},
   "outputs": [],
   "source": [
    "def solve_puzzle(initial_state):\n",
    "    # Priority queue for Best First Search\n",
    "    pq = [(misplaced_tiles(initial_state), 0, initial_state, (2, 2))]\n",
    "    visited = set()\n",
    "    \n",
    "    while pq:\n",
    "        _, cost, state, empty_pos = heappop(pq)\n",
    "        \n",
    "        if state == goal_state:\n",
    "            return cost, state\n",
    "        \n",
    "        if tuple(map(tuple, state)) in visited:\n",
    "            continue\n",
    "        \n",
    "        visited.add(tuple(map(tuple, state)))\n",
    "        \n",
    "        for neighbor_state, neighbor_pos in get_neighbors(state, empty_pos):\n",
    "            if tuple(map(tuple, neighbor_state)) not in visited:\n",
    "                new_cost = cost + 1 + misplaced_tiles(neighbor_state)\n",
    "                heappush(pq, (misplaced_tiles(neighbor_state), new_cost, neighbor_state, neighbor_pos))\n",
    "\n",
    "    return -1, None"
   ]
  },
  {
   "cell_type": "code",
   "execution_count": 17,
   "id": "7314c3ec-5524-4db2-a90e-cdb538b2ee9f",
   "metadata": {},
   "outputs": [],
   "source": [
    "def print_solution(solution):\n",
    "    if solution is None:\n",
    "        print(\"No solution exists!\")\n",
    "    else:\n",
    "        moves, state = solution\n",
    "        print(\"Minimum number of moves required:\", moves)\n",
    "        print(\"Solution:\")\n",
    "        for row in state:\n",
    "            print(row)\n"
   ]
  },
  {
   "cell_type": "code",
   "execution_count": 18,
   "id": "b130d339-5fa6-42c4-8670-fdb5ad49b0e1",
   "metadata": {},
   "outputs": [
    {
     "name": "stdout",
     "output_type": "stream",
     "text": [
      "Minimum number of moves required: 8\n",
      "Solution:\n",
      "[1, 2, 3]\n",
      "[4, 5, 6]\n",
      "[7, 8, 0]\n"
     ]
    }
   ],
   "source": [
    "#main\n",
    "initial_state = [[1, 2, 3],\n",
    "                 [5, 6, 0],\n",
    "                 [7, 8, 4]]\n",
    "\n",
    "solution = solve_puzzle(initial_state)\n",
    "print_solution(solution)"
   ]
  },
  {
   "cell_type": "code",
   "execution_count": 21,
   "id": "4605be14-7a37-4d7b-8fdc-1e03604460cc",
   "metadata": {},
   "outputs": [
    {
     "name": "stdout",
     "output_type": "stream",
     "text": [
      "Enter the elements of the matrix row by row: "
     ]
    },
    {
     "name": "stdin",
     "output_type": "stream",
     "text": [
      " 1 2 3\n",
      " 5 6 0\n",
      " 7 8 4\n"
     ]
    },
    {
     "name": "stdout",
     "output_type": "stream",
     "text": [
      "Enter the elements of the matrix row by row: "
     ]
    },
    {
     "name": "stdin",
     "output_type": "stream",
     "text": [
      " 1 2 3\n",
      " 5 6 0\n",
      " 7 8 4\n"
     ]
    },
    {
     "name": "stdout",
     "output_type": "stream",
     "text": [
      "Minimum number of moves required: 8\n",
      "Solution:\n",
      "[1, 2, 3]\n",
      "[4, 5, 6]\n",
      "[7, 8, 0]\n"
     ]
    }
   ],
   "source": [
    "def take_matrix_input():\n",
    "    matrix = []\n",
    "    print(\"Enter the elements of the matrix row by row:\", end = \" \")\n",
    "    for i in range(3):\n",
    "        row = list(map(int, input().split()))\n",
    "        if len(row) != 3:\n",
    "            print(\"Invalid input. Please enter exactly 3 elements for each row.\")\n",
    "            return None\n",
    "        matrix.append(row)\n",
    "    return matrix\n",
    "\n",
    "# Example usage\n",
    "'''matrix = take_matrix_input()\n",
    "if matrix:\n",
    "    print(\"You entered:\")\n",
    "    for row in matrix:\n",
    "        print(row)'''\n",
    "goalState = take_matrix_input()\n",
    "initialState =  take_matrix_input()\n",
    "\n",
    "solution = solve_puzzle(initialState)\n",
    "print_solution(solution)"
   ]
  },
  {
   "cell_type": "code",
   "execution_count": null,
   "id": "bd2f30ee-96a5-40d7-941b-c4d020af7040",
   "metadata": {},
   "outputs": [],
   "source": []
  }
 ],
 "metadata": {
  "kernelspec": {
   "display_name": "Python 3 (ipykernel)",
   "language": "python",
   "name": "python3"
  },
  "language_info": {
   "codemirror_mode": {
    "name": "ipython",
    "version": 3
   },
   "file_extension": ".py",
   "mimetype": "text/x-python",
   "name": "python",
   "nbconvert_exporter": "python",
   "pygments_lexer": "ipython3",
   "version": "3.11.5"
  }
 },
 "nbformat": 4,
 "nbformat_minor": 5
}
