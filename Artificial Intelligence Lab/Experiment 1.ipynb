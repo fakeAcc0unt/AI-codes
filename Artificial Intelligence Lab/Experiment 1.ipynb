{
 "cells": [
  {
   "cell_type": "code",
   "execution_count": 1,
   "id": "fbfcff1c-d49f-4a78-964f-3f31f03c62d6",
   "metadata": {},
   "outputs": [
    {
     "name": "stdout",
     "output_type": "stream",
     "text": [
      "Artificial Intelligence Lab\n",
      "Experiment No.: 01\n",
      "Title: Finding leaf nodes of a given Binary Search Tree\n"
     ]
    }
   ],
   "source": [
    "print(\"Artificial Intelligence Lab\", \"Experiment No.: 01\", sep = \"\\n\")\n",
    "print(\"Title: Finding leaf nodes of a given Binary Search Tree\")"
   ]
  },
  {
   "cell_type": "code",
   "execution_count": 5,
   "id": "44f1e0d9-22d3-4a5c-aee1-fd20d348b4b0",
   "metadata": {},
   "outputs": [],
   "source": [
    "class State:\n",
    "    def __init__(self, jug1, jug2):\n",
    "        self.jug1 = jug1\n",
    "        self.jug2 = jug2\n",
    "\n",
    "    def __eq__(self, other):\n",
    "        return self.jug1 == other.jug1 and self.jug2 == other.jug2\n",
    "\n",
    "    def __hash__(self):\n",
    "        return hash((self.jug1, self.jug2))\n",
    "\n",
    "    def __str__(self):\n",
    "        return f\"({self.jug1}, {self.jug2})\""
   ]
  },
  {
   "cell_type": "code",
   "execution_count": 6,
   "id": "b41499f6-4e9a-42ed-8f06-8571172b0854",
   "metadata": {},
   "outputs": [],
   "source": [
    "def water_jug_dfs(capacity_jug1, capacity_jug2, target):\n",
    "    stack = [(State(0, 0), [])]\n",
    "    visited = set()\n",
    "\n",
    "    while stack:\n",
    "        current_state, actions = stack.pop()\n",
    "\n",
    "        if current_state == target:\n",
    "            return actions\n",
    "\n",
    "        if current_state in visited:\n",
    "            continue\n",
    "\n",
    "        visited.add(current_state)\n",
    "\n",
    "        stack.append((State(capacity_jug1, current_state.jug2), actions + [\"Fill jug 1\"]))\n",
    "\n",
    "        stack.append((State(current_state.jug1, capacity_jug2), actions + [\"Fill jug 2\"]))\n",
    "\n",
    "        stack.append((State(0, current_state.jug2), actions + [\"Empty jug 1\"]))\n",
    "\n",
    "\n",
    "        stack.append((State(current_state.jug1, 0), actions + [\"Empty jug 2\"]))\n",
    "\n",
    "        pour_to_jug2 = min(current_state.jug1, capacity_jug2 - current_state.jug2)\n",
    "        stack.append((State(current_state.jug1 - pour_to_jug2, current_state.jug2 + pour_to_jug2),\n",
    "                      actions + [f\"Pour jug 1 to jug 2 ({pour_to_jug2})\"]))\n",
    "\n",
    "        pour_to_jug1 = min(current_state.jug2, capacity_jug1 - current_state.jug1)\n",
    "        stack.append((State(current_state.jug1 + pour_to_jug1, current_state.jug2 - pour_to_jug1),\n",
    "                      actions + [f\"Pour jug 2 to jug 1 ({pour_to_jug1})\"]))\n",
    "\n",
    "    return \"No Solution Found\""
   ]
  },
  {
   "cell_type": "code",
   "execution_count": 8,
   "id": "f1c5c7c3-4336-477c-812e-339550cc1f57",
   "metadata": {},
   "outputs": [
    {
     "name": "stdin",
     "output_type": "stream",
     "text": [
      "Enter Jug 1 capacity:  5\n",
      "Enter Jug 2 capacity:  3\n",
      "Enter target amount:  4\n"
     ]
    },
    {
     "name": "stdout",
     "output_type": "stream",
     "text": [
      "Solution found:\n",
      "Fill jug 2\n",
      "Pour jug 2 to jug 1 (3)\n",
      "Fill jug 2\n",
      "Pour jug 2 to jug 1 (2)\n",
      "Empty jug 2\n",
      "Pour jug 1 to jug 2 (3)\n",
      "Empty jug 2\n",
      "Pour jug 1 to jug 2 (2)\n",
      "Fill jug 1\n",
      "Pour jug 1 to jug 2 (1)\n",
      "Empty jug 2\n"
     ]
    }
   ],
   "source": [
    "jug1_capacity = int(input(\"Enter Jug 1 capacity: \"))\n",
    "jug2_capacity = int(input(\"Enter Jug 2 capacity: \"))\n",
    "target_amount = int(input(\"Enter target amount: \"))\n",
    "\n",
    "result = water_jug_dfs(jug1_capacity, jug2_capacity, State(target_amount, 0))\n",
    "\n",
    "if result:\n",
    "    print(\"Solution found:\")\n",
    "    for action in result:\n",
    "        print(action)\n",
    "else:\n",
    "    print(\"No solution found.\")"
   ]
  },
  {
   "cell_type": "code",
   "execution_count": null,
   "id": "17db0c46-defe-4cf9-9e71-742469601d9b",
   "metadata": {},
   "outputs": [],
   "source": []
  }
 ],
 "metadata": {
  "kernelspec": {
   "display_name": "Python 3 (ipykernel)",
   "language": "python",
   "name": "python3"
  },
  "language_info": {
   "codemirror_mode": {
    "name": "ipython",
    "version": 3
   },
   "file_extension": ".py",
   "mimetype": "text/x-python",
   "name": "python",
   "nbconvert_exporter": "python",
   "pygments_lexer": "ipython3",
   "version": "3.11.5"
  }
 },
 "nbformat": 4,
 "nbformat_minor": 5
}
